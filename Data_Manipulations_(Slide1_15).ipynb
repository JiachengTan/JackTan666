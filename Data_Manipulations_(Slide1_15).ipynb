{
  "nbformat": 4,
  "nbformat_minor": 0,
  "metadata": {
    "colab": {
      "provenance": [],
      "mount_file_id": "1IUEyAS5Z4ikSEeGY5V-Oa4n-17FNvq3s",
      "authorship_tag": "ABX9TyNU8Vey8b8183F5FfxAnw4B",
      "include_colab_link": true
    },
    "kernelspec": {
      "name": "python3",
      "display_name": "Python 3"
    },
    "language_info": {
      "name": "python"
    }
  },
  "cells": [
    {
      "cell_type": "markdown",
      "metadata": {
        "id": "view-in-github",
        "colab_type": "text"
      },
      "source": [
        "<a href=\"https://colab.research.google.com/github/JiachengTan/JackTan666/blob/main/Data_Manipulations_(Slide1_15).ipynb\" target=\"_parent\"><img src=\"https://colab.research.google.com/assets/colab-badge.svg\" alt=\"Open In Colab\"/></a>"
      ]
    },
    {
      "cell_type": "code",
      "source": [
        "import pandas as pd"
      ],
      "metadata": {
        "id": "MKdIO_LO7RkV"
      },
      "execution_count": 5,
      "outputs": []
    },
    {
      "cell_type": "code",
      "source": [
        "from pandas import read_csv"
      ],
      "metadata": {
        "id": "xPU6hXaM7Vlx"
      },
      "execution_count": 6,
      "outputs": []
    },
    {
      "cell_type": "code",
      "source": [
        "filename = '/OnlineRetail.csv'"
      ],
      "metadata": {
        "id": "cDs0GZti-X0g"
      },
      "execution_count": 15,
      "outputs": []
    },
    {
      "cell_type": "code",
      "source": [
        "names = ['InvNo', 'SKU', 'Descr', 'Qty', 'InvDate', 'UnitP', 'CusID', 'Cntry']"
      ],
      "metadata": {
        "id": "fPcm7kMp-051"
      },
      "execution_count": 18,
      "outputs": []
    },
    {
      "cell_type": "code",
      "source": [
        "sales = read_csv(filename, header=0, names=names, encoding=\"ISO-8859-1\")"
      ],
      "metadata": {
        "id": "BxGkrjoQ_-Af"
      },
      "execution_count": 16,
      "outputs": []
    },
    {
      "cell_type": "code",
      "source": [
        "# Drop some columns\n",
        "sales.drop('Descr', axis=1, inplace=True)"
      ],
      "metadata": {
        "id": "85-ohoIdBoV8"
      },
      "execution_count": 19,
      "outputs": []
    },
    {
      "cell_type": "code",
      "source": [
        "# group by customer ID\n",
        "by_customer = sales.groupby('CusID')\n",
        "by_customer.head()"
      ],
      "metadata": {
        "id": "HF9otkRWDVz6"
      },
      "execution_count": null,
      "outputs": []
    },
    {
      "cell_type": "code",
      "source": [
        "# Aggregate transactions in sales by \"counting SKU\"\n",
        "# We are only counting the number of rows that contain an entry for SKU\n",
        "count_by_customer = by_customer['SKU'].count()\n",
        "print(count_by_customer)"
      ],
      "metadata": {
        "colab": {
          "base_uri": "https://localhost:8080/"
        },
        "id": "w1K8w0I5C2M4",
        "outputId": "92bec14e-d39f-423a-a46d-416d33e6e8c3"
      },
      "execution_count": 26,
      "outputs": [
        {
          "output_type": "stream",
          "name": "stdout",
          "text": [
            "CusID\n",
            "12346.0      2\n",
            "12347.0    182\n",
            "12348.0     31\n",
            "12349.0     73\n",
            "12350.0     17\n",
            "          ... \n",
            "18280.0     10\n",
            "18281.0      7\n",
            "18282.0     13\n",
            "18283.0    756\n",
            "18287.0     70\n",
            "Name: SKU, Length: 4372, dtype: int64\n"
          ]
        }
      ]
    },
    {
      "cell_type": "code",
      "source": [
        "# Now we group by customer ID and StockCode\n",
        "by_customer_SKU = sales.groupby(['CusID','SKU'])"
      ],
      "metadata": {
        "id": "grW_hS5_D8ow"
      },
      "execution_count": 27,
      "outputs": []
    },
    {
      "cell_type": "code",
      "source": [
        "# Group by SKU and sum up Qty\n",
        "print(sales.groupby('SKU')['Qty'].sum())"
      ],
      "metadata": {
        "colab": {
          "base_uri": "https://localhost:8080/"
        },
        "id": "-zHzFp_qEj2C",
        "outputId": "864901fe-3e51-4717-9919-61a742e52235"
      },
      "execution_count": 28,
      "outputs": [
        {
          "output_type": "stream",
          "name": "stdout",
          "text": [
            "SKU\n",
            "10002           1037\n",
            "10080            495\n",
            "10120            193\n",
            "10123C           -13\n",
            "10123G           -38\n",
            "                ... \n",
            "gift_0001_20      20\n",
            "gift_0001_30      37\n",
            "gift_0001_40       3\n",
            "gift_0001_50       4\n",
            "m                  1\n",
            "Name: Qty, Length: 4070, dtype: int64\n"
          ]
        }
      ]
    },
    {
      "cell_type": "code",
      "source": [
        "# How many of each SKU have been sold to each customer? \n",
        "customer_summary = sales.groupby(['CusID','SKU'])['Qty'].sum()\n",
        "customer_summary"
      ],
      "metadata": {
        "colab": {
          "base_uri": "https://localhost:8080/"
        },
        "id": "tIBln-IJFQLZ",
        "outputId": "14c1402d-6250-46a0-d24e-cca9e30e5987"
      },
      "execution_count": 33,
      "outputs": [
        {
          "output_type": "execute_result",
          "data": {
            "text/plain": [
              "CusID    SKU   \n",
              "12346.0  23166       0\n",
              "12347.0  16008      24\n",
              "         17021      36\n",
              "         20665       6\n",
              "         20719      40\n",
              "                  ... \n",
              "18287.0  84920       4\n",
              "         85039A     96\n",
              "         85039B    120\n",
              "         85040A     48\n",
              "         85173      48\n",
              "Name: Qty, Length: 267615, dtype: int64"
            ]
          },
          "metadata": {},
          "execution_count": 33
        }
      ]
    },
    {
      "cell_type": "code",
      "source": [
        "# Group by InvNo and find the average unit price\n",
        "print(sales.groupby('InvNo')['UnitP'].mean())"
      ],
      "metadata": {
        "colab": {
          "base_uri": "https://localhost:8080/"
        },
        "id": "grFXYU1pH8OA",
        "outputId": "5e8c5b15-c9c6-423f-e201-03f6e71dae3f"
      },
      "execution_count": 32,
      "outputs": [
        {
          "output_type": "stream",
          "name": "stdout",
          "text": [
            "InvNo\n",
            "536365       3.910000\n",
            "536366       1.850000\n",
            "536367       4.853333\n",
            "536368       4.775000\n",
            "536369       5.950000\n",
            "              ...    \n",
            "C581484      2.080000\n",
            "C581490      1.390000\n",
            "C581499    224.690000\n",
            "C581568     10.950000\n",
            "C581569      1.250000\n",
            "Name: UnitP, Length: 25900, dtype: float64\n"
          ]
        }
      ]
    },
    {
      "cell_type": "code",
      "source": [
        "# Group by  Country\n",
        "by_country = sales.groupby('Cntry')"
      ],
      "metadata": {
        "id": "tTLR_iexJYID"
      },
      "execution_count": 34,
      "outputs": []
    },
    {
      "cell_type": "code",
      "source": [
        "# Select Qty and UnitP\n",
        "by_country_sub = by_country[['Qty','UnitP']]"
      ],
      "metadata": {
        "id": "yy1wXlN1Jlyc"
      },
      "execution_count": 38,
      "outputs": []
    },
    {
      "cell_type": "code",
      "source": [
        "# Aggregate columbs in the sub dataframe by 'max' and 'median' \n",
        "# Use the method .agg()\n",
        "aggregated = by_country_sub.agg(['max','median'])"
      ],
      "metadata": {
        "id": "VFlpHMabKAOP"
      },
      "execution_count": null,
      "outputs": []
    },
    {
      "cell_type": "code",
      "source": [
        "# find the maximum Qty for each country\n",
        "print(aggregated[('Qty','max')].sort_values())"
      ],
      "metadata": {
        "id": "JmM9tAd2Kr-c"
      },
      "execution_count": null,
      "outputs": []
    },
    {
      "cell_type": "code",
      "source": [
        "# find the median UnitP for each country\n",
        "print(aggregated[('UnitP','median')])"
      ],
      "metadata": {
        "id": "dNLc85oTLfiA"
      },
      "execution_count": null,
      "outputs": []
    },
    {
      "cell_type": "code",
      "source": [
        "aggregated.head()"
      ],
      "metadata": {
        "colab": {
          "base_uri": "https://localhost:8080/",
          "height": 269
        },
        "id": "9CRhfJk-Lzgl",
        "outputId": "3f8e5edc-67f2-4fe0-dd0d-b1750b047643"
      },
      "execution_count": 45,
      "outputs": [
        {
          "output_type": "execute_result",
          "data": {
            "text/plain": [
              "            Qty          UnitP       \n",
              "            max median     max median\n",
              "Cntry                                \n",
              "Australia  1152   24.0  350.00   1.79\n",
              "Austria     288    9.0   40.00   1.95\n",
              "Bahrain      96    6.0   12.75   3.81\n",
              "Belgium     272   10.0   39.95   1.95\n",
              "Brazil       24   10.0   10.95   3.32"
            ],
            "text/html": [
              "\n",
              "  <div id=\"df-5941c7df-cceb-4967-a48e-4f3ddcf8a591\">\n",
              "    <div class=\"colab-df-container\">\n",
              "      <div>\n",
              "<style scoped>\n",
              "    .dataframe tbody tr th:only-of-type {\n",
              "        vertical-align: middle;\n",
              "    }\n",
              "\n",
              "    .dataframe tbody tr th {\n",
              "        vertical-align: top;\n",
              "    }\n",
              "\n",
              "    .dataframe thead tr th {\n",
              "        text-align: left;\n",
              "    }\n",
              "\n",
              "    .dataframe thead tr:last-of-type th {\n",
              "        text-align: right;\n",
              "    }\n",
              "</style>\n",
              "<table border=\"1\" class=\"dataframe\">\n",
              "  <thead>\n",
              "    <tr>\n",
              "      <th></th>\n",
              "      <th colspan=\"2\" halign=\"left\">Qty</th>\n",
              "      <th colspan=\"2\" halign=\"left\">UnitP</th>\n",
              "    </tr>\n",
              "    <tr>\n",
              "      <th></th>\n",
              "      <th>max</th>\n",
              "      <th>median</th>\n",
              "      <th>max</th>\n",
              "      <th>median</th>\n",
              "    </tr>\n",
              "    <tr>\n",
              "      <th>Cntry</th>\n",
              "      <th></th>\n",
              "      <th></th>\n",
              "      <th></th>\n",
              "      <th></th>\n",
              "    </tr>\n",
              "  </thead>\n",
              "  <tbody>\n",
              "    <tr>\n",
              "      <th>Australia</th>\n",
              "      <td>1152</td>\n",
              "      <td>24.0</td>\n",
              "      <td>350.00</td>\n",
              "      <td>1.79</td>\n",
              "    </tr>\n",
              "    <tr>\n",
              "      <th>Austria</th>\n",
              "      <td>288</td>\n",
              "      <td>9.0</td>\n",
              "      <td>40.00</td>\n",
              "      <td>1.95</td>\n",
              "    </tr>\n",
              "    <tr>\n",
              "      <th>Bahrain</th>\n",
              "      <td>96</td>\n",
              "      <td>6.0</td>\n",
              "      <td>12.75</td>\n",
              "      <td>3.81</td>\n",
              "    </tr>\n",
              "    <tr>\n",
              "      <th>Belgium</th>\n",
              "      <td>272</td>\n",
              "      <td>10.0</td>\n",
              "      <td>39.95</td>\n",
              "      <td>1.95</td>\n",
              "    </tr>\n",
              "    <tr>\n",
              "      <th>Brazil</th>\n",
              "      <td>24</td>\n",
              "      <td>10.0</td>\n",
              "      <td>10.95</td>\n",
              "      <td>3.32</td>\n",
              "    </tr>\n",
              "  </tbody>\n",
              "</table>\n",
              "</div>\n",
              "      <button class=\"colab-df-convert\" onclick=\"convertToInteractive('df-5941c7df-cceb-4967-a48e-4f3ddcf8a591')\"\n",
              "              title=\"Convert this dataframe to an interactive table.\"\n",
              "              style=\"display:none;\">\n",
              "        \n",
              "  <svg xmlns=\"http://www.w3.org/2000/svg\" height=\"24px\"viewBox=\"0 0 24 24\"\n",
              "       width=\"24px\">\n",
              "    <path d=\"M0 0h24v24H0V0z\" fill=\"none\"/>\n",
              "    <path d=\"M18.56 5.44l.94 2.06.94-2.06 2.06-.94-2.06-.94-.94-2.06-.94 2.06-2.06.94zm-11 1L8.5 8.5l.94-2.06 2.06-.94-2.06-.94L8.5 2.5l-.94 2.06-2.06.94zm10 10l.94 2.06.94-2.06 2.06-.94-2.06-.94-.94-2.06-.94 2.06-2.06.94z\"/><path d=\"M17.41 7.96l-1.37-1.37c-.4-.4-.92-.59-1.43-.59-.52 0-1.04.2-1.43.59L10.3 9.45l-7.72 7.72c-.78.78-.78 2.05 0 2.83L4 21.41c.39.39.9.59 1.41.59.51 0 1.02-.2 1.41-.59l7.78-7.78 2.81-2.81c.8-.78.8-2.07 0-2.86zM5.41 20L4 18.59l7.72-7.72 1.47 1.35L5.41 20z\"/>\n",
              "  </svg>\n",
              "      </button>\n",
              "      \n",
              "  <style>\n",
              "    .colab-df-container {\n",
              "      display:flex;\n",
              "      flex-wrap:wrap;\n",
              "      gap: 12px;\n",
              "    }\n",
              "\n",
              "    .colab-df-convert {\n",
              "      background-color: #E8F0FE;\n",
              "      border: none;\n",
              "      border-radius: 50%;\n",
              "      cursor: pointer;\n",
              "      display: none;\n",
              "      fill: #1967D2;\n",
              "      height: 32px;\n",
              "      padding: 0 0 0 0;\n",
              "      width: 32px;\n",
              "    }\n",
              "\n",
              "    .colab-df-convert:hover {\n",
              "      background-color: #E2EBFA;\n",
              "      box-shadow: 0px 1px 2px rgba(60, 64, 67, 0.3), 0px 1px 3px 1px rgba(60, 64, 67, 0.15);\n",
              "      fill: #174EA6;\n",
              "    }\n",
              "\n",
              "    [theme=dark] .colab-df-convert {\n",
              "      background-color: #3B4455;\n",
              "      fill: #D2E3FC;\n",
              "    }\n",
              "\n",
              "    [theme=dark] .colab-df-convert:hover {\n",
              "      background-color: #434B5C;\n",
              "      box-shadow: 0px 1px 3px 1px rgba(0, 0, 0, 0.15);\n",
              "      filter: drop-shadow(0px 1px 2px rgba(0, 0, 0, 0.3));\n",
              "      fill: #FFFFFF;\n",
              "    }\n",
              "  </style>\n",
              "\n",
              "      <script>\n",
              "        const buttonEl =\n",
              "          document.querySelector('#df-5941c7df-cceb-4967-a48e-4f3ddcf8a591 button.colab-df-convert');\n",
              "        buttonEl.style.display =\n",
              "          google.colab.kernel.accessAllowed ? 'block' : 'none';\n",
              "\n",
              "        async function convertToInteractive(key) {\n",
              "          const element = document.querySelector('#df-5941c7df-cceb-4967-a48e-4f3ddcf8a591');\n",
              "          const dataTable =\n",
              "            await google.colab.kernel.invokeFunction('convertToInteractive',\n",
              "                                                     [key], {});\n",
              "          if (!dataTable) return;\n",
              "\n",
              "          const docLinkHtml = 'Like what you see? Visit the ' +\n",
              "            '<a target=\"_blank\" href=https://colab.research.google.com/notebooks/data_table.ipynb>data table notebook</a>'\n",
              "            + ' to learn more about interactive tables.';\n",
              "          element.innerHTML = '';\n",
              "          dataTable['output_type'] = 'display_data';\n",
              "          await google.colab.output.renderOutput(dataTable, element);\n",
              "          const docLink = document.createElement('div');\n",
              "          docLink.innerHTML = docLinkHtml;\n",
              "          element.appendChild(docLink);\n",
              "        }\n",
              "      </script>\n",
              "    </div>\n",
              "  </div>\n",
              "  "
            ]
          },
          "metadata": {},
          "execution_count": 45
        }
      ]
    },
    {
      "cell_type": "code",
      "source": [
        "# Group by Cntry and CusID using the level parameter:\n",
        "sales = read_csv(filename, header=0, names=names, encoding='ISO-8859-1',\n",
        "                 index_col=['Cntry','CusID','InvNo','SKU'])\n",
        "by_country_customer = sales.groupby(level=['Cntry','CusID'])\n",
        "print(by_country_customer.count())"
      ],
      "metadata": {
        "colab": {
          "base_uri": "https://localhost:8080/"
        },
        "id": "m_Tp9JicMJqW",
        "outputId": "07033764-2a09-4a8a-caf8-c9964ba69a94"
      },
      "execution_count": 50,
      "outputs": [
        {
          "output_type": "stream",
          "name": "stdout",
          "text": [
            "                        Descr  Qty  InvDate  UnitP\n",
            "Cntry          CusID                              \n",
            "Australia      12386.0     10   10       10     10\n",
            "               12388.0    100  100      100    100\n",
            "               12393.0     64   64       64     64\n",
            "               12415.0    778  778      778    778\n",
            "               12422.0     21   21       21     21\n",
            "...                       ...  ...      ...    ...\n",
            "United Kingdom 18287.0     70   70       70     70\n",
            "Unspecified    12363.0     23   23       23     23\n",
            "               12743.0    134  134      134    134\n",
            "               14265.0     31   31       31     31\n",
            "               16320.0     56   56       56     56\n",
            "\n",
            "[4380 rows x 4 columns]\n"
          ]
        }
      ]
    },
    {
      "cell_type": "code",
      "source": [
        "# To \"flatten\" the multi-level row index:\n",
        "by_country_customer = sales.groupby(level=['Cntry','CusID'])\n",
        "ccc = by_country_customer.count()\n",
        "ccc1 = ccc.reset_index()\n",
        "print (ccc)"
      ],
      "metadata": {
        "colab": {
          "base_uri": "https://localhost:8080/"
        },
        "id": "G_MJrZT_OS70",
        "outputId": "48c3e6ec-f393-4239-8031-fe2edfee548f"
      },
      "execution_count": 51,
      "outputs": [
        {
          "output_type": "stream",
          "name": "stdout",
          "text": [
            "                        Descr  Qty  InvDate  UnitP\n",
            "Cntry          CusID                              \n",
            "Australia      12386.0     10   10       10     10\n",
            "               12388.0    100  100      100    100\n",
            "               12393.0     64   64       64     64\n",
            "               12415.0    778  778      778    778\n",
            "               12422.0     21   21       21     21\n",
            "...                       ...  ...      ...    ...\n",
            "United Kingdom 18287.0     70   70       70     70\n",
            "Unspecified    12363.0     23   23       23     23\n",
            "               12743.0    134  134      134    134\n",
            "               14265.0     31   31       31     31\n",
            "               16320.0     56   56       56     56\n",
            "\n",
            "[4380 rows x 4 columns]\n"
          ]
        }
      ]
    },
    {
      "cell_type": "code",
      "source": [
        "print (ccc1)"
      ],
      "metadata": {
        "colab": {
          "base_uri": "https://localhost:8080/"
        },
        "id": "QhPwlORzOosu",
        "outputId": "21d4d644-9364-40a7-ca9e-459392663c05"
      },
      "execution_count": 52,
      "outputs": [
        {
          "output_type": "stream",
          "name": "stdout",
          "text": [
            "               Cntry    CusID  Descr  Qty  InvDate  UnitP\n",
            "0          Australia  12386.0     10   10       10     10\n",
            "1          Australia  12388.0    100  100      100    100\n",
            "2          Australia  12393.0     64   64       64     64\n",
            "3          Australia  12415.0    778  778      778    778\n",
            "4          Australia  12422.0     21   21       21     21\n",
            "...              ...      ...    ...  ...      ...    ...\n",
            "4375  United Kingdom  18287.0     70   70       70     70\n",
            "4376     Unspecified  12363.0     23   23       23     23\n",
            "4377     Unspecified  12743.0    134  134      134    134\n",
            "4378     Unspecified  14265.0     31   31       31     31\n",
            "4379     Unspecified  16320.0     56   56       56     56\n",
            "\n",
            "[4380 rows x 6 columns]\n"
          ]
        }
      ]
    },
    {
      "cell_type": "code",
      "source": [
        "# Parsing Dates\n",
        "## Parsing InvDate as date\n",
        "sales = read_csv(filename, header=0, names=names, encoding='ISO-8859-1', parse_dates=['InvDate'])\n",
        "print(sales.head())"
      ],
      "metadata": {
        "id": "fVQXyRz3RAC9"
      },
      "execution_count": null,
      "outputs": []
    },
    {
      "cell_type": "code",
      "source": [
        "# Parsing InvDate as date and making it the index\n",
        "sales = read_csv(filename, header=0, names=names, encoding='ISO-8859-1', \n",
        "                 index_col='InvDate',parse_dates=True)\n",
        "print(sales.head())"
      ],
      "metadata": {
        "colab": {
          "base_uri": "https://localhost:8080/"
        },
        "id": "dBhrtcgURbsn",
        "outputId": "8eb70376-bd31-4497-bbe9-6fea6dff1a56"
      },
      "execution_count": 54,
      "outputs": [
        {
          "output_type": "stream",
          "name": "stdout",
          "text": [
            "                      InvNo     SKU                                Descr  Qty  \\\n",
            "InvDate                                                                         \n",
            "2010-12-01 08:26:00  536365  85123A   WHITE HANGING HEART T-LIGHT HOLDER    6   \n",
            "2010-12-01 08:26:00  536365   71053                  WHITE METAL LANTERN    6   \n",
            "2010-12-01 08:26:00  536365  84406B       CREAM CUPID HEARTS COAT HANGER    8   \n",
            "2010-12-01 08:26:00  536365  84029G  KNITTED UNION FLAG HOT WATER BOTTLE    6   \n",
            "2010-12-01 08:26:00  536365  84029E       RED WOOLLY HOTTIE WHITE HEART.    6   \n",
            "\n",
            "                     UnitP    CusID           Cntry  \n",
            "InvDate                                              \n",
            "2010-12-01 08:26:00   2.55  17850.0  United Kingdom  \n",
            "2010-12-01 08:26:00   3.39  17850.0  United Kingdom  \n",
            "2010-12-01 08:26:00   2.75  17850.0  United Kingdom  \n",
            "2010-12-01 08:26:00   3.39  17850.0  United Kingdom  \n",
            "2010-12-01 08:26:00   3.39  17850.0  United Kingdom  \n"
          ]
        }
      ]
    },
    {
      "cell_type": "code",
      "source": [
        "# For non-standard datatime parsing, use pd.to_datetime after pd.read_csv\n",
        "## sales['InvDate'] = pd.to_datetime(sales['InvDate'],format='%Y-%m-%d %H:%M')"
      ],
      "metadata": {
        "id": "YB1RkztuTBlx"
      },
      "execution_count": 58,
      "outputs": []
    },
    {
      "cell_type": "code",
      "source": [
        "# Grouping by Weekday\n",
        "## parsing InvDate as date\n",
        "sales = read_csv(filename, header=0, names=names, encoding='ISO-8859-1', parse_dates=['InvDate'])\n",
        "print(sales.head())"
      ],
      "metadata": {
        "id": "dkB8e5DhWlwe"
      },
      "execution_count": null,
      "outputs": []
    },
    {
      "cell_type": "code",
      "source": [
        "by_day = sales.groupby(sales.InvDate.dt.strftime('%a'))"
      ],
      "metadata": {
        "id": "H4zj7b05XM0z"
      },
      "execution_count": 64,
      "outputs": []
    },
    {
      "cell_type": "code",
      "source": [
        "# How many units were sold each weekday? \n",
        "qty_sum = by_day['Qty'].sum()\n",
        "print(qty_sum.sort_values(ascending=False))"
      ],
      "metadata": {
        "colab": {
          "base_uri": "https://localhost:8080/"
        },
        "id": "tYZlAGzpYJcJ",
        "outputId": "1c77af64-04bf-4ab7-8bc3-7d8491818a28"
      },
      "execution_count": 66,
      "outputs": [
        {
          "output_type": "stream",
          "name": "stdout",
          "text": [
            "InvDate\n",
            "Thu    1167823\n",
            "Wed     969558\n",
            "Tue     961543\n",
            "Mon     815354\n",
            "Fri     794440\n",
            "Sun     467732\n",
            "Name: Qty, dtype: int64\n"
          ]
        }
      ]
    },
    {
      "cell_type": "code",
      "source": [
        "# Following a natural weekday ordering, categories are: \n",
        "cats = ['Mon','Tue','Wed','Thur','Fri','Sat','Sun']\n",
        "qty_sum.reindex(cats)"
      ],
      "metadata": {
        "colab": {
          "base_uri": "https://localhost:8080/"
        },
        "id": "NbywLScvZqM6",
        "outputId": "49f4f501-ca81-433d-d440-3f0f2ce3bfed"
      },
      "execution_count": 67,
      "outputs": [
        {
          "output_type": "execute_result",
          "data": {
            "text/plain": [
              "InvDate\n",
              "Mon     815354.0\n",
              "Tue     961543.0\n",
              "Wed     969558.0\n",
              "Thur         NaN\n",
              "Fri     794440.0\n",
              "Sat          NaN\n",
              "Sun     467732.0\n",
              "Name: Qty, dtype: float64"
            ]
          },
          "metadata": {},
          "execution_count": 67
        }
      ]
    },
    {
      "cell_type": "code",
      "execution_count": 1,
      "metadata": {
        "id": "cGmdjMzkdZs6"
      },
      "outputs": [],
      "source": [
        "# Detecting outliers with Z-scores"
      ]
    },
    {
      "cell_type": "code",
      "source": [
        "from scipy.stats import zscore"
      ],
      "metadata": {
        "id": "3XPehsjq6tds"
      },
      "execution_count": 2,
      "outputs": []
    },
    {
      "cell_type": "markdown",
      "source": [],
      "metadata": {
        "id": "eLPO8Soo_EBc"
      }
    },
    {
      "cell_type": "code",
      "source": [
        "standardized = zscore(sales['Qty'])"
      ],
      "metadata": {
        "id": "5B4dtLuq7F1h"
      },
      "execution_count": 69,
      "outputs": []
    },
    {
      "cell_type": "code",
      "source": [
        "standardized"
      ],
      "metadata": {
        "colab": {
          "base_uri": "https://localhost:8080/"
        },
        "id": "kubOuDBja5Y4",
        "outputId": "ddefd85a-bda1-4a64-dfb7-68b85fff04a1"
      },
      "execution_count": 70,
      "outputs": [
        {
          "output_type": "execute_result",
          "data": {
            "text/plain": [
              "0        -0.016289\n",
              "1        -0.016289\n",
              "2        -0.007118\n",
              "3        -0.016289\n",
              "4        -0.016289\n",
              "            ...   \n",
              "541904    0.011224\n",
              "541905   -0.016289\n",
              "541906   -0.025460\n",
              "541907   -0.025460\n",
              "541908   -0.030045\n",
              "Name: Qty, Length: 541909, dtype: float64"
            ]
          },
          "metadata": {},
          "execution_count": 70
        }
      ]
    },
    {
      "cell_type": "code",
      "source": [
        "pd.Series(standardized).head()"
      ],
      "metadata": {
        "colab": {
          "base_uri": "https://localhost:8080/"
        },
        "id": "Dbw_uKKEa8Mk",
        "outputId": "e4bc266d-704f-4b0d-d9a4-d47dc93fdeac"
      },
      "execution_count": 71,
      "outputs": [
        {
          "output_type": "execute_result",
          "data": {
            "text/plain": [
              "0   -0.016289\n",
              "1   -0.016289\n",
              "2   -0.007118\n",
              "3   -0.016289\n",
              "4   -0.016289\n",
              "Name: Qty, dtype: float64"
            ]
          },
          "metadata": {},
          "execution_count": 71
        }
      ]
    },
    {
      "cell_type": "code",
      "source": [
        "# Detecting Outliers with Z-Scores\n",
        "sales = sales.dropna()"
      ],
      "metadata": {
        "id": "DHdrmQ1ebJNZ"
      },
      "execution_count": 72,
      "outputs": []
    },
    {
      "cell_type": "code",
      "source": [
        "standardized = pd.DataFrame(sales.groupby('CusID')['Qty'].transform(zscore))"
      ],
      "metadata": {
        "id": "E5XSV_PobWNa"
      },
      "execution_count": 73,
      "outputs": []
    },
    {
      "cell_type": "code",
      "source": [
        "standardized"
      ],
      "metadata": {
        "colab": {
          "base_uri": "https://localhost:8080/",
          "height": 424
        },
        "id": "V1VyCQVCboKD",
        "outputId": "bb4fec28-f004-4870-cb2b-1886797566a6"
      },
      "execution_count": 74,
      "outputs": [
        {
          "output_type": "execute_result",
          "data": {
            "text/plain": [
              "             Qty\n",
              "0       0.213248\n",
              "1       0.213248\n",
              "2       0.956637\n",
              "3       0.213248\n",
              "4       0.213248\n",
              "...          ...\n",
              "541904  0.545015\n",
              "541905 -0.394458\n",
              "541906 -0.707616\n",
              "541907 -0.707616\n",
              "541908 -0.864195\n",
              "\n",
              "[406829 rows x 1 columns]"
            ],
            "text/html": [
              "\n",
              "  <div id=\"df-f966ecec-01b8-4d0f-a077-1f5179938e6a\">\n",
              "    <div class=\"colab-df-container\">\n",
              "      <div>\n",
              "<style scoped>\n",
              "    .dataframe tbody tr th:only-of-type {\n",
              "        vertical-align: middle;\n",
              "    }\n",
              "\n",
              "    .dataframe tbody tr th {\n",
              "        vertical-align: top;\n",
              "    }\n",
              "\n",
              "    .dataframe thead th {\n",
              "        text-align: right;\n",
              "    }\n",
              "</style>\n",
              "<table border=\"1\" class=\"dataframe\">\n",
              "  <thead>\n",
              "    <tr style=\"text-align: right;\">\n",
              "      <th></th>\n",
              "      <th>Qty</th>\n",
              "    </tr>\n",
              "  </thead>\n",
              "  <tbody>\n",
              "    <tr>\n",
              "      <th>0</th>\n",
              "      <td>0.213248</td>\n",
              "    </tr>\n",
              "    <tr>\n",
              "      <th>1</th>\n",
              "      <td>0.213248</td>\n",
              "    </tr>\n",
              "    <tr>\n",
              "      <th>2</th>\n",
              "      <td>0.956637</td>\n",
              "    </tr>\n",
              "    <tr>\n",
              "      <th>3</th>\n",
              "      <td>0.213248</td>\n",
              "    </tr>\n",
              "    <tr>\n",
              "      <th>4</th>\n",
              "      <td>0.213248</td>\n",
              "    </tr>\n",
              "    <tr>\n",
              "      <th>...</th>\n",
              "      <td>...</td>\n",
              "    </tr>\n",
              "    <tr>\n",
              "      <th>541904</th>\n",
              "      <td>0.545015</td>\n",
              "    </tr>\n",
              "    <tr>\n",
              "      <th>541905</th>\n",
              "      <td>-0.394458</td>\n",
              "    </tr>\n",
              "    <tr>\n",
              "      <th>541906</th>\n",
              "      <td>-0.707616</td>\n",
              "    </tr>\n",
              "    <tr>\n",
              "      <th>541907</th>\n",
              "      <td>-0.707616</td>\n",
              "    </tr>\n",
              "    <tr>\n",
              "      <th>541908</th>\n",
              "      <td>-0.864195</td>\n",
              "    </tr>\n",
              "  </tbody>\n",
              "</table>\n",
              "<p>406829 rows × 1 columns</p>\n",
              "</div>\n",
              "      <button class=\"colab-df-convert\" onclick=\"convertToInteractive('df-f966ecec-01b8-4d0f-a077-1f5179938e6a')\"\n",
              "              title=\"Convert this dataframe to an interactive table.\"\n",
              "              style=\"display:none;\">\n",
              "        \n",
              "  <svg xmlns=\"http://www.w3.org/2000/svg\" height=\"24px\"viewBox=\"0 0 24 24\"\n",
              "       width=\"24px\">\n",
              "    <path d=\"M0 0h24v24H0V0z\" fill=\"none\"/>\n",
              "    <path d=\"M18.56 5.44l.94 2.06.94-2.06 2.06-.94-2.06-.94-.94-2.06-.94 2.06-2.06.94zm-11 1L8.5 8.5l.94-2.06 2.06-.94-2.06-.94L8.5 2.5l-.94 2.06-2.06.94zm10 10l.94 2.06.94-2.06 2.06-.94-2.06-.94-.94-2.06-.94 2.06-2.06.94z\"/><path d=\"M17.41 7.96l-1.37-1.37c-.4-.4-.92-.59-1.43-.59-.52 0-1.04.2-1.43.59L10.3 9.45l-7.72 7.72c-.78.78-.78 2.05 0 2.83L4 21.41c.39.39.9.59 1.41.59.51 0 1.02-.2 1.41-.59l7.78-7.78 2.81-2.81c.8-.78.8-2.07 0-2.86zM5.41 20L4 18.59l7.72-7.72 1.47 1.35L5.41 20z\"/>\n",
              "  </svg>\n",
              "      </button>\n",
              "      \n",
              "  <style>\n",
              "    .colab-df-container {\n",
              "      display:flex;\n",
              "      flex-wrap:wrap;\n",
              "      gap: 12px;\n",
              "    }\n",
              "\n",
              "    .colab-df-convert {\n",
              "      background-color: #E8F0FE;\n",
              "      border: none;\n",
              "      border-radius: 50%;\n",
              "      cursor: pointer;\n",
              "      display: none;\n",
              "      fill: #1967D2;\n",
              "      height: 32px;\n",
              "      padding: 0 0 0 0;\n",
              "      width: 32px;\n",
              "    }\n",
              "\n",
              "    .colab-df-convert:hover {\n",
              "      background-color: #E2EBFA;\n",
              "      box-shadow: 0px 1px 2px rgba(60, 64, 67, 0.3), 0px 1px 3px 1px rgba(60, 64, 67, 0.15);\n",
              "      fill: #174EA6;\n",
              "    }\n",
              "\n",
              "    [theme=dark] .colab-df-convert {\n",
              "      background-color: #3B4455;\n",
              "      fill: #D2E3FC;\n",
              "    }\n",
              "\n",
              "    [theme=dark] .colab-df-convert:hover {\n",
              "      background-color: #434B5C;\n",
              "      box-shadow: 0px 1px 3px 1px rgba(0, 0, 0, 0.15);\n",
              "      filter: drop-shadow(0px 1px 2px rgba(0, 0, 0, 0.3));\n",
              "      fill: #FFFFFF;\n",
              "    }\n",
              "  </style>\n",
              "\n",
              "      <script>\n",
              "        const buttonEl =\n",
              "          document.querySelector('#df-f966ecec-01b8-4d0f-a077-1f5179938e6a button.colab-df-convert');\n",
              "        buttonEl.style.display =\n",
              "          google.colab.kernel.accessAllowed ? 'block' : 'none';\n",
              "\n",
              "        async function convertToInteractive(key) {\n",
              "          const element = document.querySelector('#df-f966ecec-01b8-4d0f-a077-1f5179938e6a');\n",
              "          const dataTable =\n",
              "            await google.colab.kernel.invokeFunction('convertToInteractive',\n",
              "                                                     [key], {});\n",
              "          if (!dataTable) return;\n",
              "\n",
              "          const docLinkHtml = 'Like what you see? Visit the ' +\n",
              "            '<a target=\"_blank\" href=https://colab.research.google.com/notebooks/data_table.ipynb>data table notebook</a>'\n",
              "            + ' to learn more about interactive tables.';\n",
              "          element.innerHTML = '';\n",
              "          dataTable['output_type'] = 'display_data';\n",
              "          await google.colab.output.renderOutput(dataTable, element);\n",
              "          const docLink = document.createElement('div');\n",
              "          docLink.innerHTML = docLinkHtml;\n",
              "          element.appendChild(docLink);\n",
              "        }\n",
              "      </script>\n",
              "    </div>\n",
              "  </div>\n",
              "  "
            ]
          },
          "metadata": {},
          "execution_count": 74
        }
      ]
    }
  ]
}